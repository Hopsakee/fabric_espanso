{
 "cells": [
  {
   "cell_type": "code",
   "execution_count": 1,
   "metadata": {},
   "outputs": [
    {
     "name": "stderr",
     "output_type": "stream",
     "text": [
      "/home/jelle/Tools/pythagora-core/workspace/fabric-to-espanso/.venv/lib/python3.11/site-packages/tqdm/auto.py:21: TqdmWarning: IProgress not found. Please update jupyter and ipywidgets. See https://ipywidgets.readthedocs.io/en/stable/user_install.html\n",
      "  from .autonotebook import tqdm as notebook_tqdm\n",
      "'\\\\wsl.localhost\\Ubuntu\\home\\jelle\\Tools\\pythagora-core\\workspace\\fabric-to-espanso'\n",
      "CMD.EXE was started with the above path as the current directory.\n",
      "UNC paths are not supported.  Defaulting to Windows directory.\n"
     ]
    }
   ],
   "source": [
    "from src.fabric_to_espanso.markdown_parser import parse_markdown_file"
   ]
  },
  {
   "cell_type": "code",
   "execution_count": 22,
   "metadata": {},
   "outputs": [],
   "source": [
    "from src.fabric_to_espanso.config import config"
   ]
  },
  {
   "cell_type": "code",
   "execution_count": 23,
   "metadata": {},
   "outputs": [
    {
     "data": {
      "text/plain": [
       "EmbeddingConfig(use_fastembed=True, model_name='fast-bge-small-en', collection_name='markdown_files', vector_size=384)"
      ]
     },
     "execution_count": 23,
     "metadata": {},
     "output_type": "execute_result"
    }
   ],
   "source": [
    "config.embedding"
   ]
  },
  {
   "cell_type": "code",
   "execution_count": 2,
   "metadata": {},
   "outputs": [],
   "source": [
    "# Location of input and output files\n",
    "m_file=\"/mnt/c/Obsidian/BrainCave/Extra/FabricPatterns/create_summary.md\""
   ]
  },
  {
   "cell_type": "code",
   "execution_count": 3,
   "metadata": {},
   "outputs": [],
   "source": [
    "result = parse_markdown_file(m_file)"
   ]
  },
  {
   "cell_type": "code",
   "execution_count": 4,
   "metadata": {},
   "outputs": [
    {
     "data": {
      "text/plain": [
       "('# IDENTITY and PURPOSE\\n\\nYou are an expert content summarizer. You take content in and output a Markdown formatted summary using the format below.\\n\\nTake a deep breath and think step by step about how to best accomplish this goal using the following steps.\\n\\n# OUTPUT SECTIONS\\n\\n- Combine all of your understanding of the content into a single, 20-word sentence in a section called ONE SENTENCE SUMMARY:.\\n\\n- Output the 10 most important points of the content as a list with no more than 15 words per point into a section called MAIN POINTS:.\\n\\n- Output a list of the 5 best takeaways from the content in a section called TAKEAWAYS:.\\n\\n# OUTPUT INSTRUCTIONS\\n\\n- Create the output using the formatting above.\\n- You only output human readable Markdown.\\n- Output numbered lists, not bullets.\\n- Do not output warnings or notes—just the requested sections.\\n- Do not repeat items in the output sections.\\n- Do not start items with the same opening words.\\n\\n# INPUT:\\n\\nINPUT:\\n',\n",
       " '# IDENTITY and PURPOSE\\n\\nYou are an expert content summarizer. You take content in and output a Markdown formatted summary using the format below.\\n\\nTake a deep breath and think step by step about how to best accomplish this goal using the following steps.\\n\\n# OUTPUT SECTIONS\\n\\n- Combine all of your understanding of the content into a single, 20-word sentence in a section called ONE SENTENCE SUMMARY:.\\n\\n- Output the 10 most important points of the content as a list with no more than 15 words per point into a section called MAIN POINTS:.\\n\\n- Output a list of the 5 best takeaways from the content in a section called TAKEAWAYS:.\\n\\n# OUTPUT INSTRUCTIONS\\n\\n- Create the output using the formatting above.\\n- You only output human readable Markdown.\\n- Output numbered lists, not bullets.\\n- Do not output warnings or notes—just the requested sections.\\n- Do not repeat items in the output sections.\\n- Do not start items with the same opening words.\\n\\n# INPUT:\\n\\nINPUT:')"
      ]
     },
     "execution_count": 4,
     "metadata": {},
     "output_type": "execute_result"
    }
   ],
   "source": [
    "result"
   ]
  },
  {
   "cell_type": "code",
   "execution_count": 5,
   "metadata": {},
   "outputs": [],
   "source": [
    "exmple = result[0]"
   ]
  },
  {
   "cell_type": "code",
   "execution_count": 6,
   "metadata": {},
   "outputs": [
    {
     "data": {
      "text/plain": [
       "'# IDENTITY and PURPOSE\\n\\nYou are an expert content summarizer. You take content in and output a Markdown formatted summary using the format below.\\n\\nTake a deep breath and think step by step about how to best accomplish this goal using the following steps.\\n\\n# OUTPUT SECTIONS\\n\\n- Combine all of your understanding of the content into a single, 20-word sentence in a section called ONE SENTENCE SUMMARY:.\\n\\n- Output the 10 most important points of the content as a list with no more than 15 words per point into a section called MAIN POINTS:.\\n\\n- Output a list of the 5 best takeaways from the content in a section called TAKEAWAYS:.\\n\\n# OUTPUT INSTRUCTIONS\\n\\n- Create the output using the formatting above.\\n- You only output human readable Markdown.\\n- Output numbered lists, not bullets.\\n- Do not output warnings or notes—just the requested sections.\\n- Do not repeat items in the output sections.\\n- Do not start items with the same opening words.\\n\\n# INPUT:\\n\\nINPUT:\\n'"
      ]
     },
     "execution_count": 6,
     "metadata": {},
     "output_type": "execute_result"
    }
   ],
   "source": [
    "exmple"
   ]
  },
  {
   "cell_type": "code",
   "execution_count": 7,
   "metadata": {},
   "outputs": [],
   "source": [
    "import re"
   ]
  },
  {
   "cell_type": "code",
   "execution_count": 9,
   "metadata": {},
   "outputs": [],
   "source": [
    "rp = re.compile(\n",
    "        rf'^(#+)\\s*(?:identity|purpose).*$',\n",
    "        re.MULTILINE | re.IGNORECASE)"
   ]
  },
  {
   "cell_type": "code",
   "execution_count": 14,
   "metadata": {},
   "outputs": [],
   "source": [
    "heading_matches = list(rp.finditer(exmple))"
   ]
  },
  {
   "cell_type": "code",
   "execution_count": 15,
   "metadata": {},
   "outputs": [
    {
     "data": {
      "text/plain": [
       "[<re.Match object; span=(0, 22), match='# IDENTITY and PURPOSE'>]"
      ]
     },
     "execution_count": 15,
     "metadata": {},
     "output_type": "execute_result"
    }
   ],
   "source": [
    "heading_matches"
   ]
  },
  {
   "cell_type": "code",
   "execution_count": 19,
   "metadata": {},
   "outputs": [],
   "source": [
    "boundaries = []\n",
    "for i, match in enumerate(heading_matches):\n",
    "    start = match.start()\n",
    "    # If this is the last heading, section ends at EOF\n",
    "    if i + 1 < len(heading_matches):\n",
    "        end = heading_matches[i + 1].start()\n",
    "    else:\n",
    "        end = len(exmple)\n",
    "    boundaries.append((start, end))"
   ]
  },
  {
   "cell_type": "code",
   "execution_count": 20,
   "metadata": {},
   "outputs": [
    {
     "data": {
      "text/plain": [
       "[(0, 958)]"
      ]
     },
     "execution_count": 20,
     "metadata": {},
     "output_type": "execute_result"
    }
   ],
   "source": [
    "boundaries"
   ]
  },
  {
   "cell_type": "code",
   "execution_count": 21,
   "metadata": {},
   "outputs": [
    {
     "data": {
      "text/plain": [
       "'# IDENTITY and PURPOSE\\n\\nYou are an expert content summarizer. You take content in and output a Markdown formatted summary using the format below.\\n\\nTake a deep breath and think step by step about how to best accomplish this goal using the following steps.\\n\\n# OUTPUT SECTIONS\\n\\n- Combine all of your understanding of the content into a single, 20-word sentence in a section called ONE SENTENCE SUMMARY:.\\n\\n- Output the 10 most important points of the content as a list with no more than 15 words per point into a section called MAIN POINTS:.\\n\\n- Output a list of the 5 best takeaways from the content in a section called TAKEAWAYS:.\\n\\n# OUTPUT INSTRUCTIONS\\n\\n- Create the output using the formatting above.\\n- You only output human readable Markdown.\\n- Output numbered lists, not bullets.\\n- Do not output warnings or notes—just the requested sections.\\n- Do not repeat items in the output sections.\\n- Do not start items with the same opening words.\\n\\n# INPUT:\\n\\nINPUT:\\n'"
      ]
     },
     "execution_count": 21,
     "metadata": {},
     "output_type": "execute_result"
    }
   ],
   "source": [
    "exmple[boundaries[0][0]:boundaries[0][1]]"
   ]
  }
 ],
 "metadata": {
  "kernelspec": {
   "display_name": ".venv",
   "language": "python",
   "name": "python3"
  },
  "language_info": {
   "codemirror_mode": {
    "name": "ipython",
    "version": 3
   },
   "file_extension": ".py",
   "mimetype": "text/x-python",
   "name": "python",
   "nbconvert_exporter": "python",
   "pygments_lexer": "ipython3",
   "version": "3.11.0rc1"
  }
 },
 "nbformat": 4,
 "nbformat_minor": 2
}
