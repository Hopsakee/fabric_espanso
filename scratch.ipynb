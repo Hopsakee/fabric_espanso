{
 "cells": [
  {
   "cell_type": "code",
   "execution_count": null,
   "metadata": {},
   "outputs": [],
   "source": [
    "from IPython.display import Markdown, Code, display\n",
    "from src.fabric_to_espanso.database import initialize_qdrant_database\n",
    "client = initialize_qdrant_database()\n",
    "stored_files = client.scroll(collection_name=\"markdown_files\", limit=10)[0]\n",
    "stored_files[0].payload"
   ]
  },
  {
   "cell_type": "code",
   "execution_count": null,
   "metadata": {},
   "outputs": [],
   "source": [
    "display(Markdown(stored_files[3].payload['purpose'])) #stored_files[0].payload['purpose']"
   ]
  },
  {
   "cell_type": "code",
   "execution_count": null,
   "metadata": {},
   "outputs": [],
   "source": [
    "display(Code(stored_files[3].payload['yaml_content']))"
   ]
  },
  {
   "cell_type": "code",
   "execution_count": null,
   "metadata": {},
   "outputs": [],
   "source": [
    "client.close()"
   ]
  },
  {
   "cell_type": "code",
   "execution_count": null,
   "metadata": {},
   "outputs": [],
   "source": [
    "import itertools\n",
    "\n",
    "base_words = ['identity', 'purpose', 'task']\n",
    "combinations = []\n",
    "for r in range(1, len(base_words) + 1):\n",
    "    word_combos = list(itertools.combinations(base_words, r))\n",
    "    heading_combos = [\n",
    "        ' and '.join(combo).lower() \n",
    "        for combo in word_combos\n",
    "    ]\n",
    "    combinations.extend(heading_combos)"
   ]
  },
  {
   "cell_type": "code",
   "execution_count": null,
   "metadata": {},
   "outputs": [],
   "source": [
    "combinations"
   ]
  },
  {
   "cell_type": "code",
   "execution_count": null,
   "metadata": {},
   "outputs": [],
   "source": [
    "from qdrant_client.http.models import Filter, FieldCondition, MatchValue"
   ]
  },
  {
   "cell_type": "code",
   "execution_count": null,
   "metadata": {},
   "outputs": [],
   "source": [
    "stored_files_complex = client.scroll(\n",
    "    collection_name=\"markdown_files\",\n",
    "    scroll_filter=Filter(\n",
    "        must=[\n",
    "            FieldCondition(\n",
    "                key=\"filename\",\n",
    "                match=MatchValue(value='analyze_tech_impact.md')\n",
    "            )\n",
    "        ]\n",
    "    ),\n",
    "    limit=1\n",
    ")"
   ]
  },
  {
   "cell_type": "code",
   "execution_count": null,
   "metadata": {},
   "outputs": [],
   "source": [
    "stored_files_complex[0][0].id"
   ]
  },
  {
   "cell_type": "code",
   "execution_count": null,
   "metadata": {},
   "outputs": [],
   "source": [
    "stored_files_dict = {file.payload['filename']: file for file in stored_files}"
   ]
  },
  {
   "cell_type": "code",
   "execution_count": null,
   "metadata": {},
   "outputs": [],
   "source": [
    "stored_files_dict"
   ]
  },
  {
   "cell_type": "code",
   "execution_count": null,
   "metadata": {},
   "outputs": [],
   "source": [
    "'analyze_spiritueal_text.md' in stored_files_dict"
   ]
  },
  {
   "cell_type": "code",
   "execution_count": 1,
   "metadata": {},
   "outputs": [],
   "source": [
    "from src.fabric_to_espanso.file_processor import process_markdown_files"
   ]
  },
  {
   "cell_type": "code",
   "execution_count": 2,
   "metadata": {},
   "outputs": [
    {
     "name": "stderr",
     "output_type": "stream",
     "text": [
      "Error processing file ask_uncle_duke.md: too many values to unpack (expected 2)\n",
      "Traceback (most recent call last):\n",
      "  File \"/home/jelle/Tools/pythagora-core/workspace/fabric-to-espanso/src/fabric_to_espanso/file_processor.py\", line 28, in process_markdown_files\n",
      "    content, extracted_sections = parse_markdown_file(file_path)\n",
      "    ^^^^^^^^^^^^^^^^^^^^^^^^^^^\n",
      "ValueError: too many values to unpack (expected 2)\n"
     ]
    }
   ],
   "source": [
    "current_files = process_markdown_files()"
   ]
  }
 ],
 "metadata": {
  "kernelspec": {
   "display_name": ".venv",
   "language": "python",
   "name": "python3"
  },
  "language_info": {
   "codemirror_mode": {
    "name": "ipython",
    "version": 3
   },
   "file_extension": ".py",
   "mimetype": "text/x-python",
   "name": "python",
   "nbconvert_exporter": "python",
   "pygments_lexer": "ipython3",
   "version": "3.11.0rc1"
  }
 },
 "nbformat": 4,
 "nbformat_minor": 2
}
