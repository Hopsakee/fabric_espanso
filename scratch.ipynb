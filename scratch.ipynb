{
 "cells": [
  {
   "cell_type": "code",
   "execution_count": 3,
   "metadata": {},
   "outputs": [
    {
     "data": {
      "text/plain": [
       "{'filename': 'suggest_pattern.md',\n",
       " 'content': \"# IDENTITY and PURPOSE\\n\\nYou are an AI assistant tasked with creating a new feature for a fabric command-line tool. Your primary responsibility is to develop a pattern that suggests appropriate fabric patterns or commands based on user input. You are knowledgeable about fabric commands and understand the need to expand the tool's functionality. Your role involves analyzing user requests, determining the most suitable fabric commands or patterns, and providing helpful suggestions to users.\\n\\nTake a step back and think step-by-step about how to achieve the best possible results by following the steps below.\\n\\n# STEPS\\n- Analyze the user's input to understand their specific needs and context\\n- Determine the appropriate fabric pattern or command based on the user's request\\n- Generate a response that suggests the relevant fabric command(s) or pattern(s)\\n- Provide explanations or multiple options when applicable\\n- If no specific command is found, suggest using `create_pattern`\\n\\n# OUTPUT INSTRUCTIONS\\n- Only output Markdown\\n- Provide suggestions for fabric commands or patterns based on the user's input\\n- Include explanations or multiple options when appropriate\\n- If suggesting `create_pattern`, include instructions for saving and using the new pattern\\n- Format the output to be clear and easy to understand for users new to fabric\\n- Ensure the response aligns with the goal of making fabric more accessible and user-friendly\\n- Ensure you follow ALL these instructions when creating your output\\n\\n# INPUT\\nINPUT:\\n\",\n",
       " 'purpose': \"# IDENTITY and PURPOSE\\n\\nYou are an AI assistant tasked with creating a new feature for a fabric command-line tool. Your primary responsibility is to develop a pattern that suggests appropriate fabric patterns or commands based on user input. You are knowledgeable about fabric commands and understand the need to expand the tool's functionality. Your role involves analyzing user requests, determining the most suitable fabric commands or patterns, and providing helpful suggestions to users.\\n\\nTake a step back and think step-by-step about how to achieve the best possible results by following the steps below.\",\n",
       " 'date': '2024-11-24T15:15:58.976120',\n",
       " 'trigger': '/:',\n",
       " 'label': 'suggest_pattern',\n",
       " 'espanso_yaml': \"- label: suggest_pattern\\n  replace: '>\\n\\n    # IDENTITY and PURPOSE\\n\\n\\n    You are an AI assistant tasked with creating a new feature for a fabric command-line\\n    tool. Your primary responsibility is to develop a pattern that suggests appropriate\\n    fabric patterns or commands based on user input. You are knowledgeable about fabric\\n    commands and understand the need to expand the tool''s functionality. Your role\\n    involves analyzing user requests, determining the most suitable fabric commands\\n    or patterns, and providing helpful suggestions to users.\\n\\n\\n    Take a step back and think step-by-step about how to achieve the best possible\\n    results by following the steps below.\\n\\n\\n    # STEPS\\n\\n    - Analyze the user''s input to understand their specific needs and context\\n\\n    - Determine the appropriate fabric pattern or command based on the user''s request\\n\\n    - Generate a response that suggests the relevant fabric command(s) or pattern(s)\\n\\n    - Provide explanations or multiple options when applicable\\n\\n    - If no specific command is found, suggest using `create_pattern`\\n\\n\\n    # OUTPUT INSTRUCTIONS\\n\\n    - Only output Markdown\\n\\n    - Provide suggestions for fabric commands or patterns based on the user''s input\\n\\n    - Include explanations or multiple options when appropriate\\n\\n    - If suggesting `create_pattern`, include instructions for saving and using the\\n    new pattern\\n\\n    - Format the output to be clear and easy to understand for users new to fabric\\n\\n    - Ensure the response aligns with the goal of making fabric more accessible and\\n    user-friendly\\n\\n    - Ensure you follow ALL these instructions when creating your output\\n\\n\\n    # INPUT\\n\\n    INPUT:\\n\\n\\n    {{clipb}}'\\n  trigger: '/:'\\n  vars:\\n  - name: clipb\\n    type: clipboard\\n\"}"
      ]
     },
     "execution_count": 3,
     "metadata": {},
     "output_type": "execute_result"
    }
   ],
   "source": [
    "from IPython.display import Markdown, Code, display\n",
    "from src.fabric_to_espanso.database import initialize_qdrant_database\n",
    "client = initialize_qdrant_database()\n",
    "stored_files = client.scroll(collection_name=\"markdown_files\", limit=10)[0]\n",
    "stored_files[0].payload"
   ]
  },
  {
   "cell_type": "code",
   "execution_count": null,
   "metadata": {},
   "outputs": [],
   "source": [
    "display(Markdown(stored_files[3].payload['purpose'])) #stored_files[0].payload['purpose']"
   ]
  },
  {
   "cell_type": "code",
   "execution_count": null,
   "metadata": {},
   "outputs": [],
   "source": [
    "display(Code(stored_files[3].payload['yaml_content']))"
   ]
  },
  {
   "cell_type": "code",
   "execution_count": 4,
   "metadata": {},
   "outputs": [],
   "source": [
    "client.close()"
   ]
  },
  {
   "cell_type": "code",
   "execution_count": null,
   "metadata": {},
   "outputs": [],
   "source": [
    "import itertools\n",
    "\n",
    "base_words = ['identity', 'purpose', 'task']\n",
    "combinations = []\n",
    "for r in range(1, len(base_words) + 1):\n",
    "    word_combos = list(itertools.combinations(base_words, r))\n",
    "    heading_combos = [\n",
    "        ' and '.join(combo).lower() \n",
    "        for combo in word_combos\n",
    "    ]\n",
    "    combinations.extend(heading_combos)"
   ]
  },
  {
   "cell_type": "code",
   "execution_count": null,
   "metadata": {},
   "outputs": [],
   "source": [
    "combinations"
   ]
  },
  {
   "cell_type": "code",
   "execution_count": null,
   "metadata": {},
   "outputs": [],
   "source": [
    "from qdrant_client.http.models import Filter, FieldCondition, MatchValue"
   ]
  },
  {
   "cell_type": "code",
   "execution_count": null,
   "metadata": {},
   "outputs": [],
   "source": [
    "stored_files_complex = client.scroll(\n",
    "    collection_name=\"markdown_files\",\n",
    "    scroll_filter=Filter(\n",
    "        must=[\n",
    "            FieldCondition(\n",
    "                key=\"filename\",\n",
    "                match=MatchValue(value='analyze_tech_impact.md')\n",
    "            )\n",
    "        ]\n",
    "    ),\n",
    "    limit=1\n",
    ")"
   ]
  },
  {
   "cell_type": "code",
   "execution_count": null,
   "metadata": {},
   "outputs": [],
   "source": [
    "stored_files_complex[0][0].id"
   ]
  },
  {
   "cell_type": "code",
   "execution_count": null,
   "metadata": {},
   "outputs": [],
   "source": [
    "stored_files_dict = {file.payload['filename']: file for file in stored_files}"
   ]
  },
  {
   "cell_type": "code",
   "execution_count": null,
   "metadata": {},
   "outputs": [],
   "source": [
    "stored_files_dict"
   ]
  },
  {
   "cell_type": "code",
   "execution_count": null,
   "metadata": {},
   "outputs": [],
   "source": [
    "'analyze_spiritueal_text.md' in stored_files_dict"
   ]
  },
  {
   "cell_type": "code",
   "execution_count": 1,
   "metadata": {},
   "outputs": [],
   "source": [
    "from src.fabric_to_espanso.file_processor import process_markdown_files"
   ]
  },
  {
   "cell_type": "code",
   "execution_count": 2,
   "metadata": {},
   "outputs": [
    {
     "name": "stderr",
     "output_type": "stream",
     "text": [
      "Error processing file ask_uncle_duke.md: too many values to unpack (expected 2)\n",
      "Traceback (most recent call last):\n",
      "  File \"/home/jelle/Tools/pythagora-core/workspace/fabric-to-espanso/src/fabric_to_espanso/file_processor.py\", line 28, in process_markdown_files\n",
      "    content, extracted_sections = parse_markdown_file(file_path)\n",
      "    ^^^^^^^^^^^^^^^^^^^^^^^^^^^\n",
      "ValueError: too many values to unpack (expected 2)\n"
     ]
    }
   ],
   "source": [
    "current_files = process_markdown_files()"
   ]
  }
 ],
 "metadata": {
  "kernelspec": {
   "display_name": ".venv",
   "language": "python",
   "name": "python3"
  },
  "language_info": {
   "codemirror_mode": {
    "name": "ipython",
    "version": 3
   },
   "file_extension": ".py",
   "mimetype": "text/x-python",
   "name": "python",
   "nbconvert_exporter": "python",
   "pygments_lexer": "ipython3",
   "version": "3.11.0rc1"
  }
 },
 "nbformat": 4,
 "nbformat_minor": 2
}
