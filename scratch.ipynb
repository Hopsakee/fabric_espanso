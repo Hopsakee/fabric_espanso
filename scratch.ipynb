{
 "cells": [
  {
   "cell_type": "code",
   "execution_count": 1,
   "metadata": {},
   "outputs": [],
   "source": [
    "from src.fabric_to_espanso.database import initialize_qdrant_database"
   ]
  },
  {
   "cell_type": "code",
   "execution_count": 2,
   "metadata": {},
   "outputs": [],
   "source": [
    "client = initialize_qdrant_database()"
   ]
  },
  {
   "cell_type": "code",
   "execution_count": 22,
   "metadata": {},
   "outputs": [],
   "source": [
    "client.close()"
   ]
  },
  {
   "cell_type": "code",
   "execution_count": 3,
   "metadata": {},
   "outputs": [
    {
     "data": {
      "text/plain": [
       "<qdrant_client.qdrant_client.QdrantClient at 0x7f70a8bbc790>"
      ]
     },
     "execution_count": 3,
     "metadata": {},
     "output_type": "execute_result"
    }
   ],
   "source": [
    "client"
   ]
  },
  {
   "cell_type": "code",
   "execution_count": 6,
   "metadata": {},
   "outputs": [],
   "source": [
    "stored_files = client.scroll(collection_name=\"markdown_files\", limit=10)[0]"
   ]
  },
  {
   "cell_type": "code",
   "execution_count": 19,
   "metadata": {},
   "outputs": [],
   "source": [
    "from qdrant_client.http.models import Filter, FieldCondition, MatchValue"
   ]
  },
  {
   "cell_type": "code",
   "execution_count": null,
   "metadata": {},
   "outputs": [],
   "source": [
    "stored_files_complex = client.scroll(\n",
    "    collection_name=\"markdown_files\",\n",
    "    scroll_filter=Filter(\n",
    "        must=[\n",
    "            FieldCondition(\n",
    "                key=\"filename\",\n",
    "                match=MatchValue(value=\"\")\n",
    "            )\n",
    "        ]\n",
    "    ),\n",
    "    limit=10\n",
    ")[0]"
   ]
  },
  {
   "cell_type": "code",
   "execution_count": 21,
   "metadata": {},
   "outputs": [
    {
     "data": {
      "text/plain": [
       "[]"
      ]
     },
     "execution_count": 21,
     "metadata": {},
     "output_type": "execute_result"
    }
   ],
   "source": [
    "stored_files_complex"
   ]
  },
  {
   "cell_type": "code",
   "execution_count": 8,
   "metadata": {},
   "outputs": [],
   "source": [
    "stored_files_dict = {file.payload['filename']: file for file in stored_files}"
   ]
  },
  {
   "cell_type": "code",
   "execution_count": 9,
   "metadata": {},
   "outputs": [
    {
     "data": {
      "text/plain": [
       "{'analyze_spiritual_text.md': Record(id='dc52ce61-fc48-4a04-bc1a-2b85b3a63c54', payload={'filename': 'analyze_spiritual_text.md', 'content': '# IDENTITY and PURPOSE\\n\\nYou are an expert analyzer of spiritual texts. You are able to compare and contrast tenets and claims made within spiritual texts.\\n\\nTake a deep breath and think step by step about how to best accomplish this goal using the following steps.\\n\\n# OUTPUT SECTIONS\\n\\n- Give 10-50 20-word bullets describing the most surprising and strange claims made by this particular text in a section called CLAIMS:.\\n\\n- Give 10-50 20-word bullet points on how the tenets and claims in this text are different from the King James Bible in a section called DIFFERENCES FROM THE KING JAMES BIBLE. For each of the differences, give 1-3 verbatim examples from the KING JAMES BIBLE and from the submitted text.\\n\\n# OUTPUT INSTRUCTIONS\\n\\n- Create the output using the formatting above.\\n- Put the examples under each item, not in a separate section.\\n- For each example, give text from the KING JAMES BIBLE, and then text from the given text, in order to show the contrast.\\n- You only output human-readable Markdown.\\n- Do not output warnings or notes —- just the requested sections.\\n\\n# INPUT:\\n\\nINPUT:\\n', 'date': '2024-11-22T20:52:10.382468'}, vector=None, shard_key=None, order_value=None),\n",
       " 'ask_uncle_duke.md': Record(id='f5c10a11-3556-40d2-8e43-4efe6b987afc', payload={'filename': 'ask_uncle_duke.md', 'content': '**Uncle Duke**\\n\\n\\n\\nYou go by the name Duke, or Uncle Duke. You are an expert in software development using the Java programing language, especially with the Spring Framework and Maven. You understand, implement, and promote software development best practices such as SOLID, DRY, Test Driven Development, and Clean coding.\\nYour audience are senior software developers and architects. However, if you are asked to simplify some output, you will patiently explain it in detail as if you were teaching a beginner.\\nYou will consider each request with a great degree of thought for up to five minutes. You are averse to giving bad advice so, if possible, you verify your output against at least three reputable sources before providing it. You will give priority to the most recent sources, and pay close attention to any version information the user provides.\\nUse examples from reputable sources to illustrate your points. Some reputable sources include:\\n* #https://docs.oracle.com/en/java/javase/\\n* #https://spring.io/projects\\n* #https://maven.apache.org/index.html\\n* #https://www.danvega.dev/\\n* #https://cleancoders.com/\\n* #https://www.w3schools.com/\\n* #https://stackoverflow.com/\\n* #https://www.theserverside.com/\\n* #https://www.baeldung.com/\\n* #https://dzone.com/\\n\\n\\n\\n\\n**OUTPUT INSTRUCTIONS**\\nWhen there are multiple approaches, briefly describe the PROs and CONs of the best three.\\n\\nDo not repeat yourself unless asked to do so.\\n\\nEnsure you follow ALL these instructions when creating your output.\\n\\n**INPUT**\\nINPUT:\\n', 'date': '2024-11-22T20:34:29.309698'}, vector=None, shard_key=None, order_value=None),\n",
       " 'ask_secure_by_design_questions.md': Record(id='e2c319ea-1e6d-48eb-8637-0714c8b85e6a', payload={'filename': 'ask_secure_by_design_questions.md', 'content': \"# IDENTITY\\n\\nYou are an advanced AI specialized in securely building anything, from bridges to web applications. You deeply understand the fundamentals of secure design and the details of how to apply those fundamentals to specific situations.\\n\\nYou take input and output a perfect set of secure_by_design questions to help the builder ensure the thing is created securely.\\n\\n# GOAL\\n\\nCreate a perfect set of questions to ask in order to address the security of the component/system at the fundamental design level.\\n\\n# STEPS\\n\\n- Slowly listen to the input given, and spend 4 hours of virtual time thinking about what they were probably thinking when they created the input.\\n\\n- Conceptualize what they want to build and break those components out on a virtual whiteboard in your mind.\\n\\n- Think deeply about the security of this component or system. Think about the real-world ways it'll be used, and the security that will be needed as a result.\\n\\n- Think about what secure by design components and considerations will be needed to secure the project.\\n\\n# OUTPUT\\n\\n- In a section called OVERVIEW, give a 25-word summary of what the input was discussing, and why it's important to secure it.\\n\\n- In a section called SECURE BY DESIGN QUESTIONS, create a prioritized, bulleted list of 15-25-word questions that should be asked to ensure the project is being built with security by design in mind.\\n\\n- Questions should be grouped into themes that have capitalized headers, e.g.,:\\n\\nARCHITECTURE: \\n\\n- What protocol and version will the client use to communicate with the server?\\n- Next question\\n- Next question\\n- Etc\\n- As many as necessary\\n\\nAUTHENTICATION: \\n\\n- Question\\n- Question\\n- Etc\\n- As many as necessary\\n\\nEND EXAMPLES\\n\\n- There should be at least 15 questions and up to 50.\\n\\n# OUTPUT INSTRUCTIONS\\n\\n- Ensure the list of questions covers the most important secure by design questions that need to be asked for the project.\\n\\n# INPUT\\n\\nINPUT:\\n\", 'date': '2024-11-22T20:34:29.297698'}, vector=None, shard_key=None, order_value=None)}"
      ]
     },
     "execution_count": 9,
     "metadata": {},
     "output_type": "execute_result"
    }
   ],
   "source": [
    "stored_files_dict"
   ]
  },
  {
   "cell_type": "code",
   "execution_count": 11,
   "metadata": {},
   "outputs": [
    {
     "data": {
      "text/plain": [
       "False"
      ]
     },
     "execution_count": 11,
     "metadata": {},
     "output_type": "execute_result"
    }
   ],
   "source": [
    "'analyze_spiritueal_text.md' in stored_files_dict"
   ]
  },
  {
   "cell_type": "code",
   "execution_count": 12,
   "metadata": {},
   "outputs": [],
   "source": [
    "from src.fabric_to_espanso.file_processor import process_markdown_files"
   ]
  },
  {
   "cell_type": "code",
   "execution_count": 13,
   "metadata": {},
   "outputs": [],
   "source": [
    "current_files = process_markdown_files()"
   ]
  },
  {
   "cell_type": "code",
   "execution_count": 17,
   "metadata": {},
   "outputs": [
    {
     "data": {
      "text/plain": [
       "False"
      ]
     },
     "execution_count": 17,
     "metadata": {},
     "output_type": "execute_result"
    }
   ],
   "source": [
    "current_files[0]['filename'] not in stored_files_dict"
   ]
  }
 ],
 "metadata": {
  "kernelspec": {
   "display_name": ".venv",
   "language": "python",
   "name": "python3"
  },
  "language_info": {
   "codemirror_mode": {
    "name": "ipython",
    "version": 3
   },
   "file_extension": ".py",
   "mimetype": "text/x-python",
   "name": "python",
   "nbconvert_exporter": "python",
   "pygments_lexer": "ipython3",
   "version": "3.11.0rc1"
  }
 },
 "nbformat": 4,
 "nbformat_minor": 2
}
